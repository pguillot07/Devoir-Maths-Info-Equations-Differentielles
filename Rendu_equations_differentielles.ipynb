{
 "cells": [
  {
   "cell_type": "markdown",
   "metadata": {},
   "source": [
    "Les équations de Lotka-Volterra, ou “modèle proie-prédateur”, sont couramment utilisées pour décrire la dynamique de systèmes biologiques dans lesquels un prédateur et sa proie interagissent dans un milieu commun. Elles ont été proposées indépendamment par A. J. Lotka en 1925 et V. Volterra en 1926 et s’écrivent de la manière suivante:\n",
    "\n",
    "\\begin{align*}\n",
    "\\dot{x}_1 &= x_1 (\\alpha - \\beta x_2) \\\\\n",
    "\\dot{x}_2 &= -x_2 (\\gamma - \\delta x_1) \\\\\n",
    "\\end{align*}\n",
    "\n",
    "où $x_1$ et $x_2$ désignent le nombre (positif) de proies et de prédateurs respectivement et $\\alpha$, $\\beta$, $\\gamma$, $\\delta$ sont des paramètres strictement positifs."
   ]
  },
  {
   "cell_type": "markdown",
   "metadata": {},
   "source": [
    "#### 1. Donner une interprétation physique à chaque terme de la dynamique. Montrer qu’il existe deux points d’équilibre $(0, 0)$ et $\\bar{x} \\in \\mathbb{R}_{+}^{*} \\times \\mathbb{R}_{+}^{*}$. Que peut-on dire de leur stabilité à ce stade ?"
   ]
  },
  {
   "cell_type": "markdown",
   "metadata": {},
   "source": [
    "#### 2. A l’aide des fonctions meshgrid et quiver, visualiser graphiquement le champ de vecteurs. Intuiter le comportement des solutions. On pourra aussi utiliser streamplot pour visualiser le portrait de phase."
   ]
  },
  {
   "cell_type": "markdown",
   "metadata": {},
   "source": [
    "#### 3. Par le théorème de Cauchy-Lipschitz, démontrer que toute solution initialisée dans $\\mathbb{R}_{+}^{*} \\times \\mathbb{R}_{+}^{*}$ reste dans $\\mathbb{R}_{+}^{*} \\times \\mathbb{R}_{+}^{*}$ sur son ensemble de définition."
   ]
  },
  {
   "cell_type": "markdown",
   "metadata": {
    "tags": []
   },
   "source": [
    "#### 4. On considère la fonction $$H(x_1, x_2) = \\delta x_1 − \\gamma \\ln{x_1} + \\beta x_2 − \\alpha \\ln{x_2}$$ \n",
    "\n",
    "#### définie sur $\\mathbb{R}_{+}^{*} \\times \\mathbb{R}_{+}^{*}$. Calculer la dérivée de $H$ le long des solutions initialisées dans $\\mathbb{R}_{+}^{*} \\times \\mathbb{R}_{+}^{*}$. En déduire que toute solution maximale initialisée dans $\\mathbb{R}_{+}^{*} \\times \\mathbb{R}_{+}^{*}$ est définie sur $\\mathbb{R}$."
   ]
  },
  {
   "cell_type": "markdown",
   "metadata": {},
   "source": [
    "#### 5. Représenter les courbes de niveau de $H$. Où se trouve $\\bar{x}$ ? Qu’en conclue-t-on sur le comportement des solutions ? En déduire (graphiquement) que $\\bar{x}$ est stable, au sens de la définition de stabilité."
   ]
  },
  {
   "cell_type": "markdown",
   "metadata": {
    "tags": []
   },
   "source": [
    "#### 6. Coder une fonction du type\n",
    "\n",
    "$\\text{def  solve_euler_explicit }(f, x_0, dt, t_0, t_f): \\\\\n",
    "...\\\\\n",
    "\\text{return  } t, x$\n",
    "\n",
    "#### prenant en entrée une fonction $ f : \\mathbb{R}\\times\\mathbb{R}^n \\longrightarrow \\mathbb{R}^n$ quelconque, une condition initiale $x_0$, un pas de temps $dt$, les temps initiaux et finaux, et renvoyant le vecteur des temps $t^j$ et de la solution $x^j$ du schéma d’Euler explicite appliqué à $\\dot{x} = f(t, x)$. La tester sur une équation différentielle aux solutions exactes connues. Vérifier la convergence du schéma lorsque $dt$ tend vers 0. Comment visualiser graphiquement l’ordre de convergence ?"
   ]
  },
  {
   "cell_type": "markdown",
   "metadata": {
    "tags": []
   },
   "source": [
    "#### 7. Utiliser le schéma d’Euler explicite pour simuler les équations de Lotka-Volterra. Que constate-t-on en temps long ? Cette résolution vous semble-t-elle fidèle à la réalité ? On pourra tracer l’évolution de la fonction $H$."
   ]
  },
  {
   "cell_type": "markdown",
   "metadata": {},
   "source": [
    "#### 8. Coder maintenant une fonction du type\n",
    "\n",
    "$\\text{def  solve_euler_implicit }(f, x_0, dt, t_0, t_f, intermax = 100): \\\\\n",
    "...\\\\\n",
    "\\text{return  } t, x$\n",
    "\n",
    "\n",
    "#### donnant la solution d’un schéma d’Euler implicite appliqué à $\\dot{x} = f(t, x)$ selon la méthode présentée dans le cours. Vérifier de nouveau sa convergence sur des solutions connues. Que se passe-t-il cette fois-ci sur les équations de Lotka-Volterra ?\n"
   ]
  },
  {
   "cell_type": "markdown",
   "metadata": {},
   "source": [
    "#### 9. Expliquer pourquoi les solutions de \n",
    "\n",
    "\\begin{align*}\n",
    "\\dot{x}_1 &= x_1 (\\alpha - \\beta x_2) - u_1(x_1,x_2)(H(x_1,x_2)-H_0)\\\\\n",
    "\\dot{x}_2 &= -x_2 (\\gamma - \\delta x_1) - u_2(x_1,x_2)(H(x_1,x_2)-H_0) \\\\\n",
    "\\end{align*}\n",
    "\n",
    "#### sont identiques à celles de Lotka-Volterra si $H_0 = H(x(0))$ pour tout choix de $u : \\mathbb{R}^2 \\rightarrow \\mathbb{R}^2$ continûment différentiable."
   ]
  },
  {
   "cell_type": "markdown",
   "metadata": {},
   "source": [
    "#### 10. Soit $H_0 \\in \\mathbb{R}$. Calculer la dérivée de $H-H_0$ le long des solutions de ce nouveau système. Montrer que l'on peut choisir $u$ tel que\n",
    "\n",
    "\\begin{align*}\n",
    "\\ \\frac{d}{dt}(H(x(t))-H_0)&= -k \\|\\nabla H(x(t)) \\|^{2}(H(x(t))-H_0) \\\\\n",
    "\\end{align*}\n",
    "\n",
    "#### En déduire qu'alors $H(x(t))$ converge exponentiellement vers $H_0$ lorsque $t$ tend vers l'infini si $x$ reste à une distance strictement positive de $\\bar{x}$."
   ]
  },
  {
   "cell_type": "code",
   "execution_count": null,
   "metadata": {},
   "outputs": [],
   "source": []
  }
 ],
 "metadata": {
  "kernelspec": {
   "display_name": "Python 3",
   "language": "python",
   "name": "python3"
  },
  "language_info": {
   "codemirror_mode": {
    "name": "ipython",
    "version": 3
   },
   "file_extension": ".py",
   "mimetype": "text/x-python",
   "name": "python",
   "nbconvert_exporter": "python",
   "pygments_lexer": "ipython3",
   "version": "3.8.3"
  }
 },
 "nbformat": 4,
 "nbformat_minor": 4
}
